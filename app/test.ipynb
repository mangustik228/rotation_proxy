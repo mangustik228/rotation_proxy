{
 "cells": [
  {
   "cell_type": "code",
   "execution_count": 3,
   "metadata": {},
   "outputs": [],
   "source": [
    "import httpx \n"
   ]
  },
  {
   "cell_type": "code",
   "execution_count": 6,
   "metadata": {},
   "outputs": [],
   "source": [
    "params = {\n",
    "    \"key\": \"4ebffd442090a810c87802bc77553a31\"\n",
    "}\n",
    "\n",
    "url = \"https://proxys.io/ru/api/v2/ip\"\n",
    "\n"
   ]
  },
  {
   "cell_type": "code",
   "execution_count": 7,
   "metadata": {},
   "outputs": [],
   "source": [
    "response = httpx.get(url, params=params)"
   ]
  },
  {
   "cell_type": "code",
   "execution_count": 9,
   "metadata": {},
   "outputs": [],
   "source": [
    "data = response.json()"
   ]
  },
  {
   "cell_type": "code",
   "execution_count": null,
   "metadata": {},
   "outputs": [],
   "source": [
    "result:list[dict] = []"
   ]
  },
  {
   "cell_type": "code",
   "execution_count": 13,
   "metadata": {},
   "outputs": [],
   "source": [
    "class NoIdentifyTypeId(Exception): \n",
    "    ... \n",
    "    \n",
    "class NoIdentifyCountryCode(Exception): \n",
    "    ..."
   ]
  },
  {
   "cell_type": "code",
   "execution_count": 15,
   "metadata": {},
   "outputs": [],
   "source": [
    "from datetime import datetime"
   ]
  },
  {
   "cell_type": "code",
   "execution_count": 16,
   "metadata": {},
   "outputs": [
    {
     "data": {
      "text/plain": [
       "datetime.datetime(2024, 2, 17, 22, 29, 40)"
      ]
     },
     "execution_count": 16,
     "metadata": {},
     "output_type": "execute_result"
    }
   ],
   "source": [
    "datetime.fromtimestamp(1708183780)"
   ]
  },
  {
   "cell_type": "code",
   "execution_count": 22,
   "metadata": {},
   "outputs": [],
   "source": [
    "\n",
    "def insert_order(order: dict, template: dict): \n",
    "    data = []\n",
    "    for proxy in order[\"list_ip\"]:\n",
    "        result = template.copy()\n",
    "        result[\"server\"] = proxy[\"ip\"]\n",
    "        result[\"port\"] = proxy[\"port_http\"]\n",
    "        data.append(result)\n",
    "    return data\n",
    "\n",
    "\n",
    "\n",
    "orders = response.json()[\"data\"]\n",
    "\n",
    "for order in orders: \n",
    "    result = {}\n",
    "    result[\"password\"] = order[\"password\"]\n",
    "    result[\"username\"] = order[\"username\"]\n",
    "    result[\"service_id\"] = 1 \n",
    "    result[\"expire\"] = datetime.fromtimestamp(order[\"expires_at\"])\n",
    "    if str(order[\"ip_version\"]) == \"4\": \n",
    "        result[\"type_id\"] = 1\n",
    "    elif str(order[\"ip_version\"]) == \"6\": \n",
    "        result[\"type_id\"] = 2\n",
    "    else: \n",
    "        raise NoIdentifyTypeId(f\"у заказа не поддерживаемый протокол. {order['ip_version']}\")\n",
    "    \n",
    "    if order[\"country_code\"] == \"RU\":\n",
    "        result[\"location_id\"] = 1 \n",
    "    else:\n",
    "        raise NoIdentifyCountryCode(f\"Не поддерживаемый код страны {order['country_code']}\")\n",
    "    proxies = insert_order(order, result)"
   ]
  },
  {
   "cell_type": "code",
   "execution_count": 23,
   "metadata": {},
   "outputs": [
    {
     "data": {
      "text/plain": [
       "[{'password': '74zrsw',\n",
       "  'username': 'user153638',\n",
       "  'service_id': 1,\n",
       "  'expire': datetime.datetime(2024, 2, 17, 22, 29, 40),\n",
       "  'type_id': 1,\n",
       "  'location_id': 1,\n",
       "  'server': '176.103.82.36',\n",
       "  'port': 1115},\n",
       " {'password': '74zrsw',\n",
       "  'username': 'user153638',\n",
       "  'service_id': 1,\n",
       "  'expire': datetime.datetime(2024, 2, 17, 22, 29, 40),\n",
       "  'type_id': 1,\n",
       "  'location_id': 1,\n",
       "  'server': '194.34.250.133',\n",
       "  'port': 1115},\n",
       " {'password': '74zrsw',\n",
       "  'username': 'user153638',\n",
       "  'service_id': 1,\n",
       "  'expire': datetime.datetime(2024, 2, 17, 22, 29, 40),\n",
       "  'type_id': 1,\n",
       "  'location_id': 1,\n",
       "  'server': '176.56.35.115',\n",
       "  'port': 1115},\n",
       " {'password': '74zrsw',\n",
       "  'username': 'user153638',\n",
       "  'service_id': 1,\n",
       "  'expire': datetime.datetime(2024, 2, 17, 22, 29, 40),\n",
       "  'type_id': 1,\n",
       "  'location_id': 1,\n",
       "  'server': '45.91.160.189',\n",
       "  'port': 1115},\n",
       " {'password': '74zrsw',\n",
       "  'username': 'user153638',\n",
       "  'service_id': 1,\n",
       "  'expire': datetime.datetime(2024, 2, 17, 22, 29, 40),\n",
       "  'type_id': 1,\n",
       "  'location_id': 1,\n",
       "  'server': '46.149.174.60',\n",
       "  'port': 1115},\n",
       " {'password': '74zrsw',\n",
       "  'username': 'user153638',\n",
       "  'service_id': 1,\n",
       "  'expire': datetime.datetime(2024, 2, 17, 22, 29, 40),\n",
       "  'type_id': 1,\n",
       "  'location_id': 1,\n",
       "  'server': '194.34.250.83',\n",
       "  'port': 1115},\n",
       " {'password': '74zrsw',\n",
       "  'username': 'user153638',\n",
       "  'service_id': 1,\n",
       "  'expire': datetime.datetime(2024, 2, 17, 22, 29, 40),\n",
       "  'type_id': 1,\n",
       "  'location_id': 1,\n",
       "  'server': '45.90.44.27',\n",
       "  'port': 1115},\n",
       " {'password': '74zrsw',\n",
       "  'username': 'user153638',\n",
       "  'service_id': 1,\n",
       "  'expire': datetime.datetime(2024, 2, 17, 22, 29, 40),\n",
       "  'type_id': 1,\n",
       "  'location_id': 1,\n",
       "  'server': '45.8.156.55',\n",
       "  'port': 1115},\n",
       " {'password': '74zrsw',\n",
       "  'username': 'user153638',\n",
       "  'service_id': 1,\n",
       "  'expire': datetime.datetime(2024, 2, 17, 22, 29, 40),\n",
       "  'type_id': 1,\n",
       "  'location_id': 1,\n",
       "  'server': '194.34.250.117',\n",
       "  'port': 1115},\n",
       " {'password': '74zrsw',\n",
       "  'username': 'user153638',\n",
       "  'service_id': 1,\n",
       "  'expire': datetime.datetime(2024, 2, 17, 22, 29, 40),\n",
       "  'type_id': 1,\n",
       "  'location_id': 1,\n",
       "  'server': '46.149.174.113',\n",
       "  'port': 1115},\n",
       " {'password': '74zrsw',\n",
       "  'username': 'user153638',\n",
       "  'service_id': 1,\n",
       "  'expire': datetime.datetime(2024, 2, 17, 22, 29, 40),\n",
       "  'type_id': 1,\n",
       "  'location_id': 1,\n",
       "  'server': '45.10.109.162',\n",
       "  'port': 1115},\n",
       " {'password': '74zrsw',\n",
       "  'username': 'user153638',\n",
       "  'service_id': 1,\n",
       "  'expire': datetime.datetime(2024, 2, 17, 22, 29, 40),\n",
       "  'type_id': 1,\n",
       "  'location_id': 1,\n",
       "  'server': '176.56.35.24',\n",
       "  'port': 1115},\n",
       " {'password': '74zrsw',\n",
       "  'username': 'user153638',\n",
       "  'service_id': 1,\n",
       "  'expire': datetime.datetime(2024, 2, 17, 22, 29, 40),\n",
       "  'type_id': 1,\n",
       "  'location_id': 1,\n",
       "  'server': '45.145.3.210',\n",
       "  'port': 1115},\n",
       " {'password': '74zrsw',\n",
       "  'username': 'user153638',\n",
       "  'service_id': 1,\n",
       "  'expire': datetime.datetime(2024, 2, 17, 22, 29, 40),\n",
       "  'type_id': 1,\n",
       "  'location_id': 1,\n",
       "  'server': '194.34.250.194',\n",
       "  'port': 1115},\n",
       " {'password': '74zrsw',\n",
       "  'username': 'user153638',\n",
       "  'service_id': 1,\n",
       "  'expire': datetime.datetime(2024, 2, 17, 22, 29, 40),\n",
       "  'type_id': 1,\n",
       "  'location_id': 1,\n",
       "  'server': '45.8.156.11',\n",
       "  'port': 1115},\n",
       " {'password': '74zrsw',\n",
       "  'username': 'user153638',\n",
       "  'service_id': 1,\n",
       "  'expire': datetime.datetime(2024, 2, 17, 22, 29, 40),\n",
       "  'type_id': 1,\n",
       "  'location_id': 1,\n",
       "  'server': '176.56.35.162',\n",
       "  'port': 1115},\n",
       " {'password': '74zrsw',\n",
       "  'username': 'user153638',\n",
       "  'service_id': 1,\n",
       "  'expire': datetime.datetime(2024, 2, 17, 22, 29, 40),\n",
       "  'type_id': 1,\n",
       "  'location_id': 1,\n",
       "  'server': '176.56.36.12',\n",
       "  'port': 1115},\n",
       " {'password': '74zrsw',\n",
       "  'username': 'user153638',\n",
       "  'service_id': 1,\n",
       "  'expire': datetime.datetime(2024, 2, 17, 22, 29, 40),\n",
       "  'type_id': 1,\n",
       "  'location_id': 1,\n",
       "  'server': '213.166.92.165',\n",
       "  'port': 1115},\n",
       " {'password': '74zrsw',\n",
       "  'username': 'user153638',\n",
       "  'service_id': 1,\n",
       "  'expire': datetime.datetime(2024, 2, 17, 22, 29, 40),\n",
       "  'type_id': 1,\n",
       "  'location_id': 1,\n",
       "  'server': '213.166.92.77',\n",
       "  'port': 1115},\n",
       " {'password': '74zrsw',\n",
       "  'username': 'user153638',\n",
       "  'service_id': 1,\n",
       "  'expire': datetime.datetime(2024, 2, 17, 22, 29, 40),\n",
       "  'type_id': 1,\n",
       "  'location_id': 1,\n",
       "  'server': '45.10.109.107',\n",
       "  'port': 1115}]"
      ]
     },
     "execution_count": 23,
     "metadata": {},
     "output_type": "execute_result"
    }
   ],
   "source": [
    "proxies"
   ]
  },
  {
   "cell_type": "code",
   "execution_count": null,
   "metadata": {},
   "outputs": [],
   "source": []
  }
 ],
 "metadata": {
  "kernelspec": {
   "display_name": "Python 3",
   "language": "python",
   "name": "python3"
  },
  "language_info": {
   "codemirror_mode": {
    "name": "ipython",
    "version": 3
   },
   "file_extension": ".py",
   "mimetype": "text/x-python",
   "name": "python",
   "nbconvert_exporter": "python",
   "pygments_lexer": "ipython3",
   "version": "3.11.7"
  }
 },
 "nbformat": 4,
 "nbformat_minor": 2
}
